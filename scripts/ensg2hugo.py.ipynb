{
 "cells": [
  {
   "cell_type": "markdown",
   "id": "5c6a144b-2934-4f7a-8a72-0fd20ebac427",
   "metadata": {},
   "source": [
    "\n",
    "<h1>ensg2hugo.py</h1>\n"
   ]
  },
  {
   "cell_type": "code",
   "execution_count": 1,
   "id": "cfd864d4-870d-43c1-8963-8b7da59ab112",
   "metadata": {},
   "outputs": [
    {
     "name": "stdout",
     "output_type": "stream",
     "text": [
      "Writing ensg2hugo.py\n"
     ]
    }
   ],
   "source": [
    "%%file ensg2hugo.py\n",
    "import sys\n",
    "import fileinput\n",
    "import re"
   ]
  },
  {
   "cell_type": "code",
   "execution_count": null,
   "id": "b35a9a9c-2f3e-4c5e-94ae-b3f99326edae",
   "metadata": {},
   "outputs": [],
   "source": []
  }
 ],
 "metadata": {
  "kernelspec": {
   "display_name": "Python 3 (ipykernel)",
   "language": "python",
   "name": "python3"
  },
  "language_info": {
   "codemirror_mode": {
    "name": "ipython",
    "version": 3
   },
   "file_extension": ".py",
   "mimetype": "text/x-python",
   "name": "python",
   "nbconvert_exporter": "python",
   "pygments_lexer": "ipython3",
   "version": "3.10.6"
  }
 },
 "nbformat": 4,
 "nbformat_minor": 5
}
