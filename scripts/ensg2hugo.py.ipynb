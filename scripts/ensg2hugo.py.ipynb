{
 "cells": [
  {
   "cell_type": "markdown",
   "id": "5c6a144b-2934-4f7a-8a72-0fd20ebac427",
   "metadata": {},
   "source": [
    "\n",
    "<h1>ensg2hugo.py</h1>\n"
   ]
  },
  {
   "cell_type": "markdown",
   "id": "bd25fee2-8a41-4c90-a793-e0a7b744cb20",
   "metadata": {},
   "source": [
    "\n",
    "<h2>USAGE</h2>\n",
    "\n",
    "python3 ensg2hugo.py [-f][0-9] [file]"
   ]
  },
  {
   "cell_type": "markdown",
   "id": "cc5e56aa-5975-4f10-a470-6aacff1fa61f",
   "metadata": {},
   "source": [
    "\n",
    "<h2>DESCRIPTION</h2>\n",
    "\n",
    "Key hints. You need to read the Homo_sapiens.GRCh37.75.gtf to create a dictionary, whereby you lookup the Ensembl name and replace it with the HUGO name."
   ]
  },
  {
   "cell_type": "markdown",
   "id": "689ae6cc-f17c-46b9-9284-69b3e98bec02",
   "metadata": {},
   "source": [
    "\n",
    "<h2>OPTIONS</h2>\n",
    "\n",
    "-f An optional flag where -f is followed by a number 0-9, such as ensg2hugo.py -f2 expression_analysis.tsv"
   ]
  },
  {
   "cell_type": "markdown",
   "id": "ca902611-a474-4a8b-8ccb-ed0da14b9029",
   "metadata": {},
   "source": [
    "\n",
    "<h2>EXAMPLE</h2>\n",
    "\n",
    "ensg2hugo.py -f2 expression_analysis.tsv >expression_analysis.hugo.tsv\n",
    "\n",
    "will turn this file from\n",
    "\n",
    "\"\",\"gene_id\",\"gene_name\",\"gene_type\",\"logFC\",\"AveExpr\",\"t\",\"P.Value\",\"adj.P.Val\"\n",
    "\"14541\",\"ENSG00000248546.3\",\"processed_pseudogene\",0.449817926522256,0.0739725408539951,3.47895145072996,0.000284302244388779,0.999999999912779\n",
    "\"14546\",\"ENSG00000201050.1\",\"snRNA\",0.380944080200912,0.169836608364135,2.92569531023051,0.00183380737252742,0.999999999912779\n",
    "\n",
    "into:\n",
    "\n",
    "\"\",\"gene_id\",\"gene_name\",\"gene_type\",\"logFC\",\"AveExpr\",\"t\",\"P.Value\",\"adj.P.Val\"\n",
    "\"14541\",\"ANP32C\",\"processed_pseudogene\",0.449817926522256,0.0739725408539951\n",
    "\"14546\",\"RNU6-668P\",\"snRNA\",0.380944080200912,0.169836608364135,2.92569531023051"
   ]
  },
  {
   "cell_type": "markdown",
   "id": "0efd9fc2-ff5e-4ab1-accd-0d1d93566a77",
   "metadata": {},
   "source": [
    "\n",
    "<h2>Known Issues</h2>\n"
   ]
  }
 ],
 "metadata": {
  "kernelspec": {
   "display_name": "Python 3 (ipykernel)",
   "language": "python",
   "name": "python3"
  },
  "language_info": {
   "codemirror_mode": {
    "name": "ipython",
    "version": 3
   },
   "file_extension": ".py",
   "mimetype": "text/x-python",
   "name": "python",
   "nbconvert_exporter": "python",
   "pygments_lexer": "ipython3",
   "version": "3.10.6"
  }
 },
 "nbformat": 4,
 "nbformat_minor": 5
}
