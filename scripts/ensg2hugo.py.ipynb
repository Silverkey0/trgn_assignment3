{
 "cells": [
  {
   "cell_type": "markdown",
   "id": "5c6a144b-2934-4f7a-8a72-0fd20ebac427",
   "metadata": {},
   "source": [
    "\n",
    "<h1>ensg2hugo.py</h1>\n"
   ]
  },
  {
   "cell_type": "code",
   "execution_count": null,
   "id": "cfd864d4-870d-43c1-8963-8b7da59ab112",
   "metadata": {},
   "outputs": [],
   "source": [
    "%%file extract_phonenum.py\n",
    "import sys\n",
    "import fileinput\n",
    "import re"
   ]
  }
 ],
 "metadata": {
  "kernelspec": {
   "display_name": "Python 3 (ipykernel)",
   "language": "python",
   "name": "python3"
  },
  "language_info": {
   "codemirror_mode": {
    "name": "ipython",
    "version": 3
   },
   "file_extension": ".py",
   "mimetype": "text/x-python",
   "name": "python",
   "nbconvert_exporter": "python",
   "pygments_lexer": "ipython3",
   "version": "3.10.6"
  }
 },
 "nbformat": 4,
 "nbformat_minor": 5
}
