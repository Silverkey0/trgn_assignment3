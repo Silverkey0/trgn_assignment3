{
 "cells": [
  {
   "cell_type": "markdown",
   "id": "f714d6ed-794a-41e0-b0a1-3c6e9c31c757",
   "metadata": {},
   "source": [
    "\n",
    "<h1>extract_phonenum.py</h1>\n"
   ]
  },
  {
   "cell_type": "markdown",
   "id": "a11c90df-0693-4a52-9150-a79930ebda8d",
   "metadata": {},
   "source": [
    "\n",
    "<h2>USAGE</h2>\n",
    "\n",
    "python3 extract_phonenum.py mytextfile.txt"
   ]
  },
  {
   "cell_type": "markdown",
   "id": "6eff8e8d-1a33-4403-aa5e-19b5d714299c",
   "metadata": {},
   "source": [
    "\n",
    "<h2>DESCRIPTION</h2>\n",
    "\n",
    "Extracts phone numbers from a text file, and prints formatted phone numbers.\n",
    "One-line per phone number formatted as [+][country code] ([AreaCode]) [local phone number]. [+][country code] optional output if number is international. Create a script called extract_phonenum.py which extracts phone numbers from text file."
   ]
  },
  {
   "cell_type": "markdown",
   "id": "2c6cc449-d10a-4bed-ac2b-20743858259b",
   "metadata": {},
   "source": [
    "\n",
    "<h2>EXAMPLE</h2>\n",
    "\n",
    "example1.txt\n",
    "My phone number in England was +44-20-7183-8750, and now that I moved to Arizona, it is 480-448-0157.\n",
    "python3 extract_phonenum.py example1.txt\n",
    "Output:\n",
    "+44 (20) 71838750\n",
    "(480)4480157"
   ]
  },
  {
   "cell_type": "markdown",
   "id": "ce7a65fe-fb66-4f17-ac6e-5065faa10bd2",
   "metadata": {},
   "source": [
    "\n",
    "<h2>Known Issues</h2>\n"
   ]
  }
 ],
 "metadata": {
  "kernelspec": {
   "display_name": "Python 3 (ipykernel)",
   "language": "python",
   "name": "python3"
  },
  "language_info": {
   "codemirror_mode": {
    "name": "ipython",
    "version": 3
   },
   "file_extension": ".py",
   "mimetype": "text/x-python",
   "name": "python",
   "nbconvert_exporter": "python",
   "pygments_lexer": "ipython3",
   "version": "3.10.6"
  }
 },
 "nbformat": 4,
 "nbformat_minor": 5
}
