{
 "cells": [
  {
   "cell_type": "markdown",
   "id": "4ad0b7be-52f1-4420-99fb-d68330616366",
   "metadata": {},
   "source": [
    "\n",
    "<h1>extract_phonenum.py</h1>\n"
   ]
  },
  {
   "cell_type": "markdown",
   "id": "3a861976-314a-4973-9a74-84529431dc76",
   "metadata": {},
   "source": [
    "\n",
    "<h2>USAGE</h2>\n",
    "\n",
    "python3 extract_phonenum.py mytextfile.txt"
   ]
  },
  {
   "cell_type": "markdown",
   "id": "e211a245-f235-4785-9a8e-ba8f5374a002",
   "metadata": {},
   "source": [
    "\n",
    "<h2>DESCRIPTION</h2>\n",
    "\n",
    "Extracts phone numbers from a text file, and prints formatted phone numbers.\n",
    "One-line per phone number formatted as [+][country code] ([AreaCode]) [local phone number]. [+][country code] optional output if number is international. Create a script called extract_phonenum.py which extracts phone numbers from text file."
   ]
  },
  {
   "cell_type": "markdown",
   "id": "09653c05-1c63-466c-a1ed-d28dba4b8680",
   "metadata": {},
   "source": [
    "\n",
    "<h2>EXAMPLE</h2>\n"
   ]
  },
  {
   "cell_type": "markdown",
   "id": "e63c10a6-cbb8-4330-9839-9b81d71dfca6",
   "metadata": {},
   "source": [
    "\n",
    "<h2>Known Issues</h2>\n"
   ]
  }
 ],
 "metadata": {
  "kernelspec": {
   "display_name": "Python 3 (ipykernel)",
   "language": "python",
   "name": "python3"
  },
  "language_info": {
   "codemirror_mode": {
    "name": "ipython",
    "version": 3
   },
   "file_extension": ".py",
   "mimetype": "text/x-python",
   "name": "python",
   "nbconvert_exporter": "python",
   "pygments_lexer": "ipython3",
   "version": "3.10.6"
  }
 },
 "nbformat": 4,
 "nbformat_minor": 5
}
