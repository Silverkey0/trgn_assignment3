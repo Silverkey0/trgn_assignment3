{
 "cells": [
  {
   "cell_type": "markdown",
   "id": "f714d6ed-794a-41e0-b0a1-3c6e9c31c757",
   "metadata": {},
   "source": [
    "\n",
    "<h1>extract_phonenum.py</h1>\n"
   ]
  },
  {
   "cell_type": "code",
   "execution_count": 1,
   "id": "6e7572f1-e931-47e4-a42b-52b1e580cc7e",
   "metadata": {},
   "outputs": [
    {
     "name": "stdout",
     "output_type": "stream",
     "text": [
      "Writing extract_phonenum.py\n"
     ]
    }
   ],
   "source": [
    "%%file extract_phonenum.py\n",
    "import sys\n",
    "import fileinput\n",
    "import re"
   ]
  },
  {
   "cell_type": "code",
   "execution_count": null,
   "id": "dbbe2b0b-223f-400e-882d-94c0590d3723",
   "metadata": {},
   "outputs": [],
   "source": []
  }
 ],
 "metadata": {
  "kernelspec": {
   "display_name": "Python 3 (ipykernel)",
   "language": "python",
   "name": "python3"
  },
  "language_info": {
   "codemirror_mode": {
    "name": "ipython",
    "version": 3
   },
   "file_extension": ".py",
   "mimetype": "text/x-python",
   "name": "python",
   "nbconvert_exporter": "python",
   "pygments_lexer": "ipython3",
   "version": "3.10.6"
  }
 },
 "nbformat": 4,
 "nbformat_minor": 5
}
