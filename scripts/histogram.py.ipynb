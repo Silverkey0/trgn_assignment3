{
 "cells": [
  {
   "cell_type": "markdown",
   "id": "fcdd166b-17b3-4789-a999-021395b26825",
   "metadata": {},
   "source": [
    "<h1>histogram.py</h1>"
   ]
  },
  {
   "cell_type": "markdown",
   "id": "2bf42218-bf46-4d12-9647-23f8734b6f01",
   "metadata": {},
   "source": [
    "<h2>USAGE</h2>\n",
    "python3 histogram.py [-f][0-9] [file]"
   ]
  },
  {
   "cell_type": "markdown",
   "id": "69487cf6-737b-4fb4-959c-82c84ecb81d0",
   "metadata": {
    "jp-MarkdownHeadingCollapsed": true,
    "tags": []
   },
   "source": [
    "<h2>DESCRIPTION</h2>\n",
    "Creates a histogram as a png from a file using the specified column in a tab delimited file."
   ]
  },
  {
   "cell_type": "markdown",
   "id": "9e4245f9-ea36-4d81-aa96-6c70f4c69353",
   "metadata": {
    "tags": []
   },
   "source": [
    "<h2>Options</h2>\n",
    "-f An optional flag where -f is followed by a number 0-9 indicating which column to use to create the histogram.  If no option is selected, use the 2nd column"
   ]
  },
  {
   "cell_type": "markdown",
   "id": "69de8700-096a-46b1-ba2d-f028cabe555d",
   "metadata": {
    "tags": []
   },
   "source": [
    "<h2>HYPOTHETICAL EXAMPLE</h2>"
   ]
  },
  {
   "cell_type": "markdown",
   "id": "08c574eb-7921-4ea3-99ef-45043e53b314",
   "metadata": {},
   "source": [
    "<h2>Known Issues<h2>"
   ]
  },
  {
   "cell_type": "code",
   "execution_count": null,
   "id": "3b302e01-0fef-4478-b5f1-e8f07528e1e5",
   "metadata": {},
   "outputs": [],
   "source": []
  }
 ],
 "metadata": {
  "kernelspec": {
   "display_name": "Python 3 (ipykernel)",
   "language": "python",
   "name": "python3"
  },
  "language_info": {
   "codemirror_mode": {
    "name": "ipython",
    "version": 3
   },
   "file_extension": ".py",
   "mimetype": "text/x-python",
   "name": "python",
   "nbconvert_exporter": "python",
   "pygments_lexer": "ipython3",
   "version": "3.10.6"
  }
 },
 "nbformat": 4,
 "nbformat_minor": 5
}
