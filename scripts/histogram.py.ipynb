{
 "cells": [
  {
   "cell_type": "markdown",
   "id": "2ac4f699-f4f1-47e0-a499-2dfa42823639",
   "metadata": {},
   "source": [
    "\n",
    "<h1>histogram.py</h1>\n"
   ]
  },
  {
   "cell_type": "markdown",
   "id": "1d0d5773-1d7e-47f4-acb8-9627a3f38773",
   "metadata": {},
   "source": [
    "\n",
    "<h2>USAGE</h2>\n",
    "\n",
    "python3 histogram.py [-f][0-9] [file]"
   ]
  },
  {
   "cell_type": "markdown",
   "id": "b30f2ed7-4a43-4c45-bfa3-33815dd1ec61",
   "metadata": {},
   "source": [
    "\n",
    "<h2>DESCRIPTION</h2>\n",
    "\n",
    "Creates a histogram as a png from a file using the specified column in a tab delimited file."
   ]
  },
  {
   "cell_type": "markdown",
   "id": "644577ac-993b-4396-bdbf-5833cb61e1ed",
   "metadata": {},
   "source": [
    "\n",
    "<h2>OPTIONS</h2>\n",
    "\n",
    "-f An optional flag where -f is followed by a number 0-9 indicating which column to use to create the histogram.  If no option is selected, use the 2nd column."
   ]
  },
  {
   "cell_type": "markdown",
   "id": "4d1c26fc-d186-4ae5-bd1d-600ac4835cd0",
   "metadata": {},
   "source": [
    "\n",
    "<h2>HYPOTHETICAL EXAMPLE</h2>\n",
    "\n",
    "histogram.py -f4 expression_analysis.tsv"
   ]
  },
  {
   "cell_type": "markdown",
   "id": "1136e8d4-1467-4e64-97bb-5bbdf40adda3",
   "metadata": {},
   "source": [
    "\n",
    "<h2>Known Issues</h2>\n"
   ]
  }
 ],
 "metadata": {
  "kernelspec": {
   "display_name": "Python 3 (ipykernel)",
   "language": "python",
   "name": "python3"
  },
  "language_info": {
   "codemirror_mode": {
    "name": "ipython",
    "version": 3
   },
   "file_extension": ".py",
   "mimetype": "text/x-python",
   "name": "python",
   "nbconvert_exporter": "python",
   "pygments_lexer": "ipython3",
   "version": "3.10.6"
  }
 },
 "nbformat": 4,
 "nbformat_minor": 5
}
