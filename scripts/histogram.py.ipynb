{
 "cells": [
  {
   "cell_type": "markdown",
   "id": "2ac4f699-f4f1-47e0-a499-2dfa42823639",
   "metadata": {},
   "source": [
    "\n",
    "<h1>histogram.py</h1>\n"
   ]
  },
  {
   "cell_type": "code",
   "execution_count": 1,
   "id": "ea7ed8da-1e82-452d-bc9b-1106c62d2dc5",
   "metadata": {},
   "outputs": [
    {
     "name": "stdout",
     "output_type": "stream",
     "text": [
      "Writing histogram.py\n"
     ]
    }
   ],
   "source": [
    "%%file histogram.py\n",
    "import sys\n",
    "import fileinput\n",
    "import re"
   ]
  },
  {
   "cell_type": "code",
   "execution_count": null,
   "id": "dcd76f07-0b5a-4905-b453-7035aff9fbbc",
   "metadata": {},
   "outputs": [],
   "source": []
  }
 ],
 "metadata": {
  "kernelspec": {
   "display_name": "Python 3 (ipykernel)",
   "language": "python",
   "name": "python3"
  },
  "language_info": {
   "codemirror_mode": {
    "name": "ipython",
    "version": 3
   },
   "file_extension": ".py",
   "mimetype": "text/x-python",
   "name": "python",
   "nbconvert_exporter": "python",
   "pygments_lexer": "ipython3",
   "version": "3.10.6"
  }
 },
 "nbformat": 4,
 "nbformat_minor": 5
}
