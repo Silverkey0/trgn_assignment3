{
 "cells": [
  {
   "cell_type": "code",
   "execution_count": 31,
   "id": "cefecced-add7-4ee7-81ee-8fd3ddd259b4",
   "metadata": {},
   "outputs": [
    {
     "data": {
      "text/plain": [
       "<_io.TextIOWrapper name='mytextfile.txt' mode='r' encoding='UTF-8'>"
      ]
     },
     "execution_count": 31,
     "metadata": {},
     "output_type": "execute_result"
    }
   ],
   "source": [
    "import re\n",
    "file = open('mytextfile.txt','r')\n",
    "file"
   ]
  },
  {
   "cell_type": "code",
   "execution_count": 32,
   "id": "d8f4bb53-49c0-48ef-8c42-e95701b32cad",
   "metadata": {},
   "outputs": [
    {
     "data": {
      "text/plain": [
       "'My phone number in England was +44-20-7183-8750, and now that I moved to Arizona,it is 400-448-0157. My new phone number in LA is 213-453-3004\\nMy new phone number in LA is 213-453-3003'"
      ]
     },
     "execution_count": 32,
     "metadata": {},
     "output_type": "execute_result"
    }
   ],
   "source": [
    "text = file.read()\n",
    "text"
   ]
  },
  {
   "cell_type": "code",
   "execution_count": 35,
   "id": "1c348892-20c1-4b51-a39b-6710434bcd07",
   "metadata": {},
   "outputs": [],
   "source": [
    "pattern = \"(\\+\\d{1,2}\\s)?\\(?\\d{3}\\)?[\\s.-]\\d{3}[\\s.-]\\d{4}\""
   ]
  },
  {
   "cell_type": "code",
   "execution_count": 36,
   "id": "0c2beb68-d1fe-452e-b920-1d2dac66f09c",
   "metadata": {},
   "outputs": [
    {
     "data": {
      "text/plain": [
       "['', '', '']"
      ]
     },
     "execution_count": 36,
     "metadata": {},
     "output_type": "execute_result"
    }
   ],
   "source": [
    "phone_numbers = re.findall(pattern,text)\n",
    "phone_numbers"
   ]
  }
 ],
 "metadata": {
  "kernelspec": {
   "display_name": "Python 3 (ipykernel)",
   "language": "python",
   "name": "python3"
  },
  "language_info": {
   "codemirror_mode": {
    "name": "ipython",
    "version": 3
   },
   "file_extension": ".py",
   "mimetype": "text/x-python",
   "name": "python",
   "nbconvert_exporter": "python",
   "pygments_lexer": "ipython3",
   "version": "3.10.6"
  }
 },
 "nbformat": 4,
 "nbformat_minor": 5
}
